{
 "cells": [
  {
   "cell_type": "code",
   "execution_count": 1,
   "metadata": {},
   "outputs": [
    {
     "name": "stdout",
     "output_type": "stream",
     "text": [
      "Sum of matrices:\n",
      "[10, 10, 10]\n",
      "[10, 10, 10]\n",
      "[10, 10, 10]\n"
     ]
    }
   ],
   "source": [
    "#Q - 1. Write a Python Program to Add Two Matrices?\n",
    "#Answer:\n",
    "def add_matrices(matrix1, matrix2):\n",
    "    if len(matrix1) != len(matrix2) or len(matrix1[0]) != len(matrix2[0]):\n",
    "        print(\"Error: Matrices should have the same dimensions.\")\n",
    "        return None\n",
    "\n",
    "    result = [[matrix1[i][j] + matrix2[i][j] for j in range(len(matrix1[0]))] for i in range(len(matrix1))]\n",
    "    return result\n",
    "\n",
    "# Example\n",
    "matrix1 = [[1, 2, 3], [4, 5, 6], [7, 8, 9]]\n",
    "matrix2 = [[9, 8, 7], [6, 5, 4], [3, 2, 1]]\n",
    "\n",
    "result = add_matrices(matrix1, matrix2)\n",
    "if result:\n",
    "    print(\"Sum of matrices:\")\n",
    "    for row in result:\n",
    "        print(row)"
   ]
  },
  {
   "cell_type": "code",
   "execution_count": 2,
   "metadata": {},
   "outputs": [
    {
     "name": "stdout",
     "output_type": "stream",
     "text": [
      "Product of matrices:\n",
      "[[ 58  64]\n",
      " [139 154]]\n"
     ]
    }
   ],
   "source": [
    "#Q - 2. Write a Python Program to Multiply Two Matrices?\n",
    "#Answer:\n",
    "import numpy as np\n",
    "\n",
    "def multiply_matrices(matrix1, matrix2):\n",
    "    result = np.dot(matrix1, matrix2) #using np.dot() function we can multiply matrix directly\n",
    "    return result\n",
    "\n",
    "# Example usage\n",
    "matrix1 = np.array([[1, 2, 3], [4, 5, 6]])\n",
    "matrix2 = np.array([[7, 8], [9, 10], [11, 12]])\n",
    "\n",
    "result = multiply_matrices(matrix1, matrix2)\n",
    "print(\"Product of matrices:\")\n",
    "print(result)"
   ]
  },
  {
   "cell_type": "code",
   "execution_count": 3,
   "metadata": {},
   "outputs": [
    {
     "name": "stdout",
     "output_type": "stream",
     "text": [
      "Original matrix:\n",
      "[1, 2, 3]\n",
      "[4, 5, 6]\n",
      "Transposed matrix:\n",
      "[1, 4]\n",
      "[2, 5]\n",
      "[3, 6]\n"
     ]
    }
   ],
   "source": [
    "#Q - 3. Write a Python Program to Transpose a Matrix?\n",
    "#Answer:\n",
    "def transpose_matrix(matrix):\n",
    "    # Get the dimensions of the original matrix\n",
    "    rows = len(matrix)\n",
    "    cols = len(matrix[0])\n",
    "\n",
    "    # Create a new matrix with swapped dimensions\n",
    "    transposed = [[0 for _ in range(rows)] for _ in range(cols)]\n",
    "\n",
    "    # Iterate over the original matrix and populate the transposed matrix\n",
    "    for i in range(rows):\n",
    "        for j in range(cols):\n",
    "            transposed[j][i] = matrix[i][j]\n",
    "\n",
    "    return transposed\n",
    "\n",
    "# Example\n",
    "matrix = [[1, 2, 3], [4, 5, 6]]\n",
    "\n",
    "transposed_matrix = transpose_matrix(matrix)\n",
    "print(\"Original matrix:\")\n",
    "for row in matrix:\n",
    "    print(row)\n",
    "\n",
    "print(\"Transposed matrix:\")\n",
    "for row in transposed_matrix:\n",
    "    print(row)"
   ]
  },
  {
   "cell_type": "code",
   "execution_count": 7,
   "metadata": {},
   "outputs": [
    {
     "name": "stdout",
     "output_type": "stream",
     "text": [
      "apple\n",
      "banana\n",
      "guava\n",
      "jackfruit\n",
      "kiwi\n",
      "passionfruit\n",
      "pineapple\n",
      "plum\n"
     ]
    }
   ],
   "source": [
    "#Q - 4. Write a Python Program to Sort Words in Alphabetic Order?\n",
    "#Answer:\n",
    "def sort_words(words):\n",
    "    sorted_words = sorted(words) #sorted function is used to sort words in a list\n",
    "    return sorted_words\n",
    "\n",
    "word_str = [\"apple\", \"banana\",\"kiwi\",\"pineapple\",\"guava\",\"jackfruit\",\"plum\",\"passionfruit\"]\n",
    "sorted_words_list = sort_words(word_str)\n",
    "for each_word in sorted_words_list:\n",
    "    print(each_word)"
   ]
  },
  {
   "cell_type": "code",
   "execution_count": 13,
   "metadata": {},
   "outputs": [
    {
     "name": "stdout",
     "output_type": "stream",
     "text": [
      "Original string: Hello, World! How are you?\n",
      "String without punctuation: Hello World How are you\n"
     ]
    }
   ],
   "source": [
    "#Q - 5. Write a Python Program to Remove Punctuation From a String?\n",
    "#Answer:\n",
    "import string\n",
    "\n",
    "def remove_punctuation(input_string):\n",
    "    #string.punctuation is a predefined string in 'string' module that contains all the punctuation characters\n",
    "    #maketrans() function is used to create a translation table which is essentially a mapping of characters\n",
    "    translation_table = str.maketrans(\"\", \"\", string.punctuation)\n",
    "\n",
    "    no_punct_string = input_string.translate(translation_table) \n",
    "    #here we are passing the translation table to the translation function\n",
    "\n",
    "    return no_punct_string\n",
    "\n",
    "input_string = \"Hello, World! How are you?\"\n",
    "\n",
    "clean_string = remove_punctuation(input_string)\n",
    "print(\"Original string:\", input_string)\n",
    "print(\"String without punctuation:\", clean_string)"
   ]
  },
  {
   "cell_type": "code",
   "execution_count": null,
   "metadata": {},
   "outputs": [],
   "source": []
  }
 ],
 "metadata": {
  "kernelspec": {
   "display_name": "Python 3.9.6 64-bit",
   "language": "python",
   "name": "python3"
  },
  "language_info": {
   "codemirror_mode": {
    "name": "ipython",
    "version": 3
   },
   "file_extension": ".py",
   "mimetype": "text/x-python",
   "name": "python",
   "nbconvert_exporter": "python",
   "pygments_lexer": "ipython3",
   "version": "3.9.6"
  },
  "orig_nbformat": 4,
  "vscode": {
   "interpreter": {
    "hash": "31f2aee4e71d21fbe5cf8b01ff0e069b9275f58929596ceb00d14d90e3e16cd6"
   }
  }
 },
 "nbformat": 4,
 "nbformat_minor": 2
}
